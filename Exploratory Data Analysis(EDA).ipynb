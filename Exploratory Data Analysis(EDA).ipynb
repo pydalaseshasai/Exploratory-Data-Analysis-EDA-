{
 "cells": [
  {
   "cell_type": "code",
   "execution_count": 1,
   "id": "1dad5d7c",
   "metadata": {},
   "outputs": [],
   "source": [
    "import numpy as np\n",
    "import pandas as pd\n",
    "import matplotlib.pyplot as plt\n",
    "import seaborn as sns"
   ]
  },
  {
   "cell_type": "code",
   "execution_count": 2,
   "id": "0ea5426a",
   "metadata": {},
   "outputs": [
    {
     "data": {
      "text/html": [
       "<div>\n",
       "<style scoped>\n",
       "    .dataframe tbody tr th:only-of-type {\n",
       "        vertical-align: middle;\n",
       "    }\n",
       "\n",
       "    .dataframe tbody tr th {\n",
       "        vertical-align: top;\n",
       "    }\n",
       "\n",
       "    .dataframe thead th {\n",
       "        text-align: right;\n",
       "    }\n",
       "</style>\n",
       "<table border=\"1\" class=\"dataframe\">\n",
       "  <thead>\n",
       "    <tr style=\"text-align: right;\">\n",
       "      <th></th>\n",
       "      <th>Id</th>\n",
       "      <th>MSSubClass</th>\n",
       "      <th>MSZoning</th>\n",
       "      <th>LotFrontage</th>\n",
       "      <th>LotArea</th>\n",
       "      <th>Street</th>\n",
       "      <th>Alley</th>\n",
       "      <th>LotShape</th>\n",
       "      <th>LandContour</th>\n",
       "      <th>Utilities</th>\n",
       "      <th>...</th>\n",
       "      <th>PoolArea</th>\n",
       "      <th>PoolQC</th>\n",
       "      <th>Fence</th>\n",
       "      <th>MiscFeature</th>\n",
       "      <th>MiscVal</th>\n",
       "      <th>MoSold</th>\n",
       "      <th>YrSold</th>\n",
       "      <th>SaleType</th>\n",
       "      <th>SaleCondition</th>\n",
       "      <th>SalePrice</th>\n",
       "    </tr>\n",
       "  </thead>\n",
       "  <tbody>\n",
       "    <tr>\n",
       "      <th>0</th>\n",
       "      <td>1</td>\n",
       "      <td>60</td>\n",
       "      <td>RL</td>\n",
       "      <td>65.0</td>\n",
       "      <td>8450</td>\n",
       "      <td>Pave</td>\n",
       "      <td>NaN</td>\n",
       "      <td>Reg</td>\n",
       "      <td>Lvl</td>\n",
       "      <td>AllPub</td>\n",
       "      <td>...</td>\n",
       "      <td>0</td>\n",
       "      <td>NaN</td>\n",
       "      <td>NaN</td>\n",
       "      <td>NaN</td>\n",
       "      <td>0</td>\n",
       "      <td>2</td>\n",
       "      <td>2008</td>\n",
       "      <td>WD</td>\n",
       "      <td>Normal</td>\n",
       "      <td>208500</td>\n",
       "    </tr>\n",
       "    <tr>\n",
       "      <th>1</th>\n",
       "      <td>2</td>\n",
       "      <td>20</td>\n",
       "      <td>RL</td>\n",
       "      <td>80.0</td>\n",
       "      <td>9600</td>\n",
       "      <td>Pave</td>\n",
       "      <td>NaN</td>\n",
       "      <td>Reg</td>\n",
       "      <td>Lvl</td>\n",
       "      <td>AllPub</td>\n",
       "      <td>...</td>\n",
       "      <td>0</td>\n",
       "      <td>NaN</td>\n",
       "      <td>NaN</td>\n",
       "      <td>NaN</td>\n",
       "      <td>0</td>\n",
       "      <td>5</td>\n",
       "      <td>2007</td>\n",
       "      <td>WD</td>\n",
       "      <td>Normal</td>\n",
       "      <td>181500</td>\n",
       "    </tr>\n",
       "    <tr>\n",
       "      <th>2</th>\n",
       "      <td>3</td>\n",
       "      <td>60</td>\n",
       "      <td>RL</td>\n",
       "      <td>68.0</td>\n",
       "      <td>11250</td>\n",
       "      <td>Pave</td>\n",
       "      <td>NaN</td>\n",
       "      <td>IR1</td>\n",
       "      <td>Lvl</td>\n",
       "      <td>AllPub</td>\n",
       "      <td>...</td>\n",
       "      <td>0</td>\n",
       "      <td>NaN</td>\n",
       "      <td>NaN</td>\n",
       "      <td>NaN</td>\n",
       "      <td>0</td>\n",
       "      <td>9</td>\n",
       "      <td>2008</td>\n",
       "      <td>WD</td>\n",
       "      <td>Normal</td>\n",
       "      <td>223500</td>\n",
       "    </tr>\n",
       "    <tr>\n",
       "      <th>3</th>\n",
       "      <td>4</td>\n",
       "      <td>70</td>\n",
       "      <td>RL</td>\n",
       "      <td>60.0</td>\n",
       "      <td>9550</td>\n",
       "      <td>Pave</td>\n",
       "      <td>NaN</td>\n",
       "      <td>IR1</td>\n",
       "      <td>Lvl</td>\n",
       "      <td>AllPub</td>\n",
       "      <td>...</td>\n",
       "      <td>0</td>\n",
       "      <td>NaN</td>\n",
       "      <td>NaN</td>\n",
       "      <td>NaN</td>\n",
       "      <td>0</td>\n",
       "      <td>2</td>\n",
       "      <td>2006</td>\n",
       "      <td>WD</td>\n",
       "      <td>Abnorml</td>\n",
       "      <td>140000</td>\n",
       "    </tr>\n",
       "    <tr>\n",
       "      <th>4</th>\n",
       "      <td>5</td>\n",
       "      <td>60</td>\n",
       "      <td>RL</td>\n",
       "      <td>84.0</td>\n",
       "      <td>14260</td>\n",
       "      <td>Pave</td>\n",
       "      <td>NaN</td>\n",
       "      <td>IR1</td>\n",
       "      <td>Lvl</td>\n",
       "      <td>AllPub</td>\n",
       "      <td>...</td>\n",
       "      <td>0</td>\n",
       "      <td>NaN</td>\n",
       "      <td>NaN</td>\n",
       "      <td>NaN</td>\n",
       "      <td>0</td>\n",
       "      <td>12</td>\n",
       "      <td>2008</td>\n",
       "      <td>WD</td>\n",
       "      <td>Normal</td>\n",
       "      <td>250000</td>\n",
       "    </tr>\n",
       "  </tbody>\n",
       "</table>\n",
       "<p>5 rows × 81 columns</p>\n",
       "</div>"
      ],
      "text/plain": [
       "   Id  MSSubClass MSZoning  LotFrontage  LotArea Street Alley LotShape  \\\n",
       "0   1          60       RL         65.0     8450   Pave   NaN      Reg   \n",
       "1   2          20       RL         80.0     9600   Pave   NaN      Reg   \n",
       "2   3          60       RL         68.0    11250   Pave   NaN      IR1   \n",
       "3   4          70       RL         60.0     9550   Pave   NaN      IR1   \n",
       "4   5          60       RL         84.0    14260   Pave   NaN      IR1   \n",
       "\n",
       "  LandContour Utilities  ... PoolArea PoolQC Fence MiscFeature MiscVal MoSold  \\\n",
       "0         Lvl    AllPub  ...        0    NaN   NaN         NaN       0      2   \n",
       "1         Lvl    AllPub  ...        0    NaN   NaN         NaN       0      5   \n",
       "2         Lvl    AllPub  ...        0    NaN   NaN         NaN       0      9   \n",
       "3         Lvl    AllPub  ...        0    NaN   NaN         NaN       0      2   \n",
       "4         Lvl    AllPub  ...        0    NaN   NaN         NaN       0     12   \n",
       "\n",
       "  YrSold  SaleType  SaleCondition  SalePrice  \n",
       "0   2008        WD         Normal     208500  \n",
       "1   2007        WD         Normal     181500  \n",
       "2   2008        WD         Normal     223500  \n",
       "3   2006        WD        Abnorml     140000  \n",
       "4   2008        WD         Normal     250000  \n",
       "\n",
       "[5 rows x 81 columns]"
      ]
     },
     "execution_count": 2,
     "metadata": {},
     "output_type": "execute_result"
    }
   ],
   "source": [
    "df=pd.read_csv(\"file:///C:/Users/RISHI/Downloads/houseprice(2).csv\")\n",
    "df.head()"
   ]
  },
  {
   "cell_type": "markdown",
   "id": "fe787f61",
   "metadata": {},
   "source": [
    "# Handling missing values"
   ]
  },
  {
   "cell_type": "code",
   "execution_count": 3,
   "id": "d93518fa",
   "metadata": {},
   "outputs": [
    {
     "data": {
      "text/plain": [
       "Id                 0\n",
       "MSSubClass         0\n",
       "MSZoning           0\n",
       "LotFrontage      259\n",
       "LotArea            0\n",
       "                ... \n",
       "MoSold             0\n",
       "YrSold             0\n",
       "SaleType           0\n",
       "SaleCondition      0\n",
       "SalePrice          0\n",
       "Length: 81, dtype: int64"
      ]
     },
     "execution_count": 3,
     "metadata": {},
     "output_type": "execute_result"
    }
   ],
   "source": [
    "df.isnull().sum()"
   ]
  },
  {
   "cell_type": "code",
   "execution_count": 4,
   "id": "03ab39b8",
   "metadata": {},
   "outputs": [],
   "source": [
    "df[\"LotFrontage\"]=df[\"LotFrontage\"].replace(to_replace=\"0\",value=np.nan)\n",
    "df[\"LotFrontage\"]=df[\"LotFrontage\"].astype(float)"
   ]
  },
  {
   "cell_type": "code",
   "execution_count": 5,
   "id": "4c22c00f",
   "metadata": {},
   "outputs": [
    {
     "data": {
      "text/plain": [
       "69.0"
      ]
     },
     "execution_count": 5,
     "metadata": {},
     "output_type": "execute_result"
    }
   ],
   "source": [
    "median=df[\"LotFrontage\"].median()\n",
    "median"
   ]
  },
  {
   "cell_type": "code",
   "execution_count": 6,
   "id": "45a8ec65",
   "metadata": {},
   "outputs": [],
   "source": [
    "df[\"LotFrontage\"].replace(np.nan,median,inplace=True)"
   ]
  },
  {
   "cell_type": "code",
   "execution_count": 7,
   "id": "02466076",
   "metadata": {},
   "outputs": [],
   "source": [
    "mode=df[\"Alley\"].mode().values[0]\n",
    "df[\"Alley\"]=df[\"Alley\"].replace(np.nan,mode)"
   ]
  },
  {
   "cell_type": "code",
   "execution_count": 8,
   "id": "47ee2385",
   "metadata": {},
   "outputs": [],
   "source": [
    "mode=df[\"MasVnrType\"].mode().values[0]\n",
    "df[\"MasVnrType\"]=df[\"MasVnrType\"].replace(np.nan,mode)"
   ]
  },
  {
   "cell_type": "code",
   "execution_count": 9,
   "id": "e554186d",
   "metadata": {},
   "outputs": [],
   "source": [
    "mode=df[\"MasVnrArea\"].mode().values[0]\n",
    "df[\"MasVnrArea\"]=df[\"MasVnrArea\"].replace(np.nan,mode)"
   ]
  },
  {
   "cell_type": "code",
   "execution_count": 10,
   "id": "a192e4a0",
   "metadata": {},
   "outputs": [],
   "source": [
    "mode=df[\"BsmtQual\"].mode().values[0]\n",
    "df[\"BsmtQual\"]=df[\"BsmtQual\"].replace(np.nan,mode)"
   ]
  },
  {
   "cell_type": "code",
   "execution_count": 11,
   "id": "897afca0",
   "metadata": {},
   "outputs": [],
   "source": [
    "mode=df[\"BsmtCond\"].mode().values[0]\n",
    "df[\"BsmtCond\"]=df[\"BsmtCond\"].replace(np.nan,mode)"
   ]
  },
  {
   "cell_type": "code",
   "execution_count": 12,
   "id": "b76fbe30",
   "metadata": {},
   "outputs": [],
   "source": [
    "mode=df[\"BsmtFinType1\"].mode().values[0]\n",
    "df[\"BsmtFinType1\"]=df[\"BsmtFinType1\"].replace(np.nan,mode)"
   ]
  },
  {
   "cell_type": "code",
   "execution_count": 13,
   "id": "0ec77aef",
   "metadata": {},
   "outputs": [],
   "source": [
    "mode=df[\"BsmtFinType2\"].mode().values[0]\n",
    "df[\"BsmtFinType2\"]=df[\"BsmtFinType2\"].replace(np.nan,mode)"
   ]
  },
  {
   "cell_type": "code",
   "execution_count": 14,
   "id": "997b5af0",
   "metadata": {},
   "outputs": [],
   "source": [
    "mode=df[\"Electrical\"].mode().values[0]\n",
    "df[\"Electrical\"]=df[\"Electrical\"].replace(np.nan,mode)"
   ]
  },
  {
   "cell_type": "code",
   "execution_count": 15,
   "id": "8d9d63a1",
   "metadata": {},
   "outputs": [],
   "source": [
    "mode=df[\"FireplaceQu\"].mode().values[0]\n",
    "df[\"FireplaceQu\"]=df[\"FireplaceQu\"].replace(np.nan,mode)"
   ]
  },
  {
   "cell_type": "code",
   "execution_count": 16,
   "id": "949ac3de",
   "metadata": {},
   "outputs": [],
   "source": [
    "mode=df[\"GarageType\"].mode().values[0]\n",
    "df[\"GarageType\"]=df[\"GarageType\"].replace(np.nan,mode)"
   ]
  },
  {
   "cell_type": "code",
   "execution_count": 17,
   "id": "d2008060",
   "metadata": {},
   "outputs": [],
   "source": [
    "mode=df[\"GarageYrBlt\"].mode().values[0]\n",
    "df[\"GarageYrBlt\"]=df[\"GarageYrBlt\"].replace(np.nan,mode)"
   ]
  },
  {
   "cell_type": "code",
   "execution_count": 18,
   "id": "ce509837",
   "metadata": {},
   "outputs": [],
   "source": [
    "mode=df[\"GarageFinish\"].mode().values[0]\n",
    "df[\"GarageFinish\"]=df[\"GarageFinish\"].replace(np.nan,mode)"
   ]
  },
  {
   "cell_type": "code",
   "execution_count": 19,
   "id": "db1b6d37",
   "metadata": {},
   "outputs": [],
   "source": [
    "mode=df[\"PoolQC\"].mode().values[0]\n",
    "df[\"PoolQC\"]=df[\"PoolQC\"].replace(np.nan,mode)"
   ]
  },
  {
   "cell_type": "code",
   "execution_count": 20,
   "id": "5e06bb45",
   "metadata": {},
   "outputs": [],
   "source": [
    "mode=df[\"Fence\"].mode().values[0]\n",
    "df[\"Fence\"]=df[\"Fence\"].replace(np.nan,mode)"
   ]
  },
  {
   "cell_type": "code",
   "execution_count": 21,
   "id": "dfeba3fe",
   "metadata": {},
   "outputs": [],
   "source": [
    "mode=df[\"MiscFeature\"].mode().values[0]\n",
    "df[\"MiscFeature\"]=df[\"MiscFeature\"].replace(np.nan,mode)"
   ]
  },
  {
   "cell_type": "code",
   "execution_count": 22,
   "id": "b63d9e01",
   "metadata": {},
   "outputs": [],
   "source": [
    "mode=df[\"GarageType\"].mode().values[0]\n",
    "df[\"GarageType\"]=df[\"GarageType\"].replace(np.nan,mode)"
   ]
  },
  {
   "cell_type": "code",
   "execution_count": 23,
   "id": "3785315e",
   "metadata": {},
   "outputs": [],
   "source": [
    "mode=df[\"BsmtExposure\"].mode().values[0]\n",
    "df[\"BsmtExposure\"]=df[\"BsmtExposure\"].replace(np.nan,mode)"
   ]
  },
  {
   "cell_type": "code",
   "execution_count": 24,
   "id": "2edd2ff7",
   "metadata": {},
   "outputs": [],
   "source": [
    "mode=df[\"BsmtExposure\"].mode().values[0]\n",
    "df[\"BsmtExposure\"]=df[\"BsmtExposure\"].replace(np.nan,mode)"
   ]
  },
  {
   "cell_type": "code",
   "execution_count": 25,
   "id": "5364d296",
   "metadata": {},
   "outputs": [],
   "source": [
    "mode=df[\"GarageQual\"].mode().values[0]\n",
    "df[\"GarageQual\"]=df[\"GarageQual\"].replace(np.nan,mode)"
   ]
  },
  {
   "cell_type": "code",
   "execution_count": 26,
   "id": "7f0e940e",
   "metadata": {},
   "outputs": [],
   "source": [
    "mode=df[\"GarageCond\"].mode().values[0]\n",
    "df[\"GarageCond\"]=df[\"GarageCond\"].replace(np.nan,mode)"
   ]
  },
  {
   "cell_type": "markdown",
   "id": "980cf7d7",
   "metadata": {},
   "source": [
    "#  Removing duplicates"
   ]
  },
  {
   "cell_type": "code",
   "execution_count": 28,
   "id": "970c0776",
   "metadata": {},
   "outputs": [
    {
     "name": "stdout",
     "output_type": "stream",
     "text": [
      "0\n"
     ]
    },
    {
     "data": {
      "text/html": [
       "<div>\n",
       "<style scoped>\n",
       "    .dataframe tbody tr th:only-of-type {\n",
       "        vertical-align: middle;\n",
       "    }\n",
       "\n",
       "    .dataframe tbody tr th {\n",
       "        vertical-align: top;\n",
       "    }\n",
       "\n",
       "    .dataframe thead th {\n",
       "        text-align: right;\n",
       "    }\n",
       "</style>\n",
       "<table border=\"1\" class=\"dataframe\">\n",
       "  <thead>\n",
       "    <tr style=\"text-align: right;\">\n",
       "      <th></th>\n",
       "      <th>Id</th>\n",
       "      <th>MSSubClass</th>\n",
       "      <th>MSZoning</th>\n",
       "      <th>LotFrontage</th>\n",
       "      <th>LotArea</th>\n",
       "      <th>Street</th>\n",
       "      <th>Alley</th>\n",
       "      <th>LotShape</th>\n",
       "      <th>LandContour</th>\n",
       "      <th>Utilities</th>\n",
       "      <th>...</th>\n",
       "      <th>PoolArea</th>\n",
       "      <th>PoolQC</th>\n",
       "      <th>Fence</th>\n",
       "      <th>MiscFeature</th>\n",
       "      <th>MiscVal</th>\n",
       "      <th>MoSold</th>\n",
       "      <th>YrSold</th>\n",
       "      <th>SaleType</th>\n",
       "      <th>SaleCondition</th>\n",
       "      <th>SalePrice</th>\n",
       "    </tr>\n",
       "  </thead>\n",
       "  <tbody>\n",
       "  </tbody>\n",
       "</table>\n",
       "<p>0 rows × 81 columns</p>\n",
       "</div>"
      ],
      "text/plain": [
       "Empty DataFrame\n",
       "Columns: [Id, MSSubClass, MSZoning, LotFrontage, LotArea, Street, Alley, LotShape, LandContour, Utilities, LotConfig, LandSlope, Neighborhood, Condition1, Condition2, BldgType, HouseStyle, OverallQual, OverallCond, YearBuilt, YearRemodAdd, RoofStyle, RoofMatl, Exterior1st, Exterior2nd, MasVnrType, MasVnrArea, ExterQual, ExterCond, Foundation, BsmtQual, BsmtCond, BsmtExposure, BsmtFinType1, BsmtFinSF1, BsmtFinType2, BsmtFinSF2, BsmtUnfSF, TotalBsmtSF, Heating, HeatingQC, CentralAir, Electrical, 1stFlrSF, 2ndFlrSF, LowQualFinSF, GrLivArea, BsmtFullBath, BsmtHalfBath, FullBath, HalfBath, BedroomAbvGr, KitchenAbvGr, KitchenQual, TotRmsAbvGrd, Functional, Fireplaces, FireplaceQu, GarageType, GarageYrBlt, GarageFinish, GarageCars, GarageArea, GarageQual, GarageCond, PavedDrive, WoodDeckSF, OpenPorchSF, EnclosedPorch, 3SsnPorch, ScreenPorch, PoolArea, PoolQC, Fence, MiscFeature, MiscVal, MoSold, YrSold, SaleType, SaleCondition, SalePrice]\n",
       "Index: []\n",
       "\n",
       "[0 rows x 81 columns]"
      ]
     },
     "execution_count": 28,
     "metadata": {},
     "output_type": "execute_result"
    }
   ],
   "source": [
    "duplicate=df.duplicated()\n",
    "print(duplicate.sum())\n",
    "df[duplicate]"
   ]
  },
  {
   "cell_type": "markdown",
   "id": "f97e9599",
   "metadata": {},
   "source": [
    "# Finding outliers and Replace the outlier value using the IQR"
   ]
  },
  {
   "cell_type": "code",
   "execution_count": 29,
   "id": "70239032",
   "metadata": {
    "scrolled": false
   },
   "outputs": [
    {
     "name": "stdout",
     "output_type": "stream",
     "text": [
      "Id                 729.50\n",
      "MSSubClass          50.00\n",
      "LotFrontage         19.00\n",
      "LotArea           4048.00\n",
      "OverallQual          2.00\n",
      "OverallCond          1.00\n",
      "YearBuilt           46.00\n",
      "YearRemodAdd        37.00\n",
      "MasVnrArea         164.25\n",
      "BsmtFinSF1         712.25\n",
      "BsmtFinSF2           0.00\n",
      "BsmtUnfSF          585.00\n",
      "TotalBsmtSF        502.50\n",
      "1stFlrSF           509.25\n",
      "2ndFlrSF           728.00\n",
      "LowQualFinSF         0.00\n",
      "GrLivArea          647.25\n",
      "BsmtFullBath         1.00\n",
      "BsmtHalfBath         0.00\n",
      "FullBath             1.00\n",
      "HalfBath             1.00\n",
      "BedroomAbvGr         1.00\n",
      "KitchenAbvGr         0.00\n",
      "TotRmsAbvGrd         2.00\n",
      "Fireplaces           1.00\n",
      "GarageYrBlt         41.00\n",
      "GarageCars           1.00\n",
      "GarageArea         241.50\n",
      "WoodDeckSF         168.00\n",
      "OpenPorchSF         68.00\n",
      "EnclosedPorch        0.00\n",
      "3SsnPorch            0.00\n",
      "ScreenPorch          0.00\n",
      "PoolArea             0.00\n",
      "MiscVal              0.00\n",
      "MoSold               3.00\n",
      "YrSold               2.00\n",
      "SalePrice        84025.00\n",
      "dtype: float64\n"
     ]
    }
   ],
   "source": [
    "q1=df.quantile(0.25)\n",
    "q3=df.quantile(0.75)\n",
    "iqr=q3-q1\n",
    "print(iqr)"
   ]
  },
  {
   "cell_type": "code",
   "execution_count": 32,
   "id": "1cbb98c0",
   "metadata": {},
   "outputs": [],
   "source": [
    "def remove_outlier(col):\n",
    "    sorted(col)\n",
    "    Q1,Q3=col.quantile([0.25,0.75])\n",
    "    IQR=Q3-Q1\n",
    "    lower_range=Q1-(1.5*IQR)\n",
    "    upper_range=Q3+(1.5*IQR)\n",
    "    return lower_range,upper_range"
   ]
  },
  {
   "cell_type": "code",
   "execution_count": 33,
   "id": "edf71c1e",
   "metadata": {},
   "outputs": [],
   "source": [
    "lowlotfrontage,upplotfrontage=remove_outlier(df['LotFrontage'])\n",
    "df[\"LotFrontage\"]=np.where(df['LotFrontage']>upplotfrontage,upplotfrontage,df['LotFrontage'])\n",
    "df[\"LotFrontage\"]=np.where(df['LotFrontage']<lowlotfrontage,lowlotfrontage,df['LotFrontage'])"
   ]
  },
  {
   "cell_type": "code",
   "execution_count": 35,
   "id": "876335cc",
   "metadata": {},
   "outputs": [],
   "source": [
    "lowlotfrontage,upplotfrontage=remove_outlier(df['LotArea'])\n",
    "df[\"LotArea\"]=np.where(df['LotArea']>upplotfrontage,upplotfrontage,df['LotArea'])\n",
    "df[\"LotArea\"]=np.where(df['LotArea']<lowlotfrontage,lowlotfrontage,df['LotArea'])"
   ]
  },
  {
   "cell_type": "code",
   "execution_count": 36,
   "id": "4cd09eba",
   "metadata": {},
   "outputs": [],
   "source": [
    "lowlotfrontage,upplotfrontage=remove_outlier(df['MasVnrArea'])\n",
    "df[\"MasVnrArea\"]=np.where(df['MasVnrArea']>upplotfrontage,upplotfrontage,df['MasVnrArea'])\n",
    "df[\"MasVnrArea\"]=np.where(df['MasVnrArea']<lowlotfrontage,lowlotfrontage,df['MasVnrArea'])"
   ]
  },
  {
   "cell_type": "code",
   "execution_count": 37,
   "id": "5cf4d004",
   "metadata": {},
   "outputs": [],
   "source": [
    "lowlotfrontage,upplotfrontage=remove_outlier(df['BsmtFinSF1'])\n",
    "df[\"BsmtFinSF1\"]=np.where(df['BsmtFinSF1']>upplotfrontage,upplotfrontage,df['BsmtFinSF1'])\n",
    "df[\"BsmtFinSF1\"]=np.where(df['BsmtFinSF1']<lowlotfrontage,lowlotfrontage,df['BsmtFinSF1'])"
   ]
  },
  {
   "cell_type": "code",
   "execution_count": 38,
   "id": "1b6ceb61",
   "metadata": {},
   "outputs": [],
   "source": [
    "lowlotfrontage,upplotfrontage=remove_outlier(df['BsmtFinSF2'])\n",
    "df[\"BsmtFinSF2\"]=np.where(df['BsmtFinSF2']>upplotfrontage,upplotfrontage,df['BsmtFinSF2'])\n",
    "df[\"BsmtFinSF2\"]=np.where(df['BsmtFinSF2']<lowlotfrontage,lowlotfrontage,df['BsmtFinSF2'])"
   ]
  },
  {
   "cell_type": "code",
   "execution_count": 39,
   "id": "17ce899f",
   "metadata": {},
   "outputs": [],
   "source": [
    "lowlotfrontage,upplotfrontage=remove_outlier(df['BsmtUnfSF'])\n",
    "df[\"BsmtUnfSF\"]=np.where(df['BsmtUnfSF']>upplotfrontage,upplotfrontage,df['BsmtUnfSF'])\n",
    "df[\"BsmtUnfSF\"]=np.where(df['BsmtUnfSF']<lowlotfrontage,lowlotfrontage,df['BsmtUnfSF'])"
   ]
  },
  {
   "cell_type": "code",
   "execution_count": 40,
   "id": "95da07e3",
   "metadata": {},
   "outputs": [],
   "source": [
    "lowlotfrontage,upplotfrontage=remove_outlier(df['TotalBsmtSF'])\n",
    "df[\"TotalBsmtSF\"]=np.where(df['TotalBsmtSF']>upplotfrontage,upplotfrontage,df['TotalBsmtSF'])\n",
    "df[\"TotalBsmtSF\"]=np.where(df['TotalBsmtSF']<lowlotfrontage,lowlotfrontage,df['TotalBsmtSF'])"
   ]
  },
  {
   "cell_type": "code",
   "execution_count": 41,
   "id": "03cd14b5",
   "metadata": {},
   "outputs": [],
   "source": [
    "lowlotfrontage,upplotfrontage=remove_outlier(df['BsmtFinSF2'])\n",
    "df[\"1stFlrSF\"]=np.where(df['1stFlrSF']>upplotfrontage,upplotfrontage,df['1stFlrSF'])\n",
    "df[\"1stFlrSF\"]=np.where(df['1stFlrSF']<lowlotfrontage,lowlotfrontage,df['1stFlrSF'])"
   ]
  },
  {
   "cell_type": "code",
   "execution_count": 42,
   "id": "bd4cff0b",
   "metadata": {},
   "outputs": [],
   "source": [
    "owlotfrontage,upplotfrontage=remove_outlier(df['2ndFlrSF'])\n",
    "df[\"2ndFlrSF\"]=np.where(df['2ndFlrSF']>upplotfrontage,upplotfrontage,df['2ndFlrSF'])\n",
    "df[\"2ndFlrSF\"]=np.where(df['2ndFlrSF']<lowlotfrontage,lowlotfrontage,df['2ndFlrSF'])"
   ]
  },
  {
   "cell_type": "code",
   "execution_count": 43,
   "id": "c2d96567",
   "metadata": {},
   "outputs": [],
   "source": [
    "lowlotfrontage,upplotfrontage=remove_outlier(df['LowQualFinSF'])\n",
    "df[\"LowQualFinSF\"]=np.where(df['LowQualFinSF']>upplotfrontage,upplotfrontage,df['LowQualFinSF'])\n",
    "df[\"LowQualFinSF\"]=np.where(df['LowQualFinSF']<lowlotfrontage,lowlotfrontage,df['LowQualFinSF'])"
   ]
  },
  {
   "cell_type": "code",
   "execution_count": 44,
   "id": "e99849a1",
   "metadata": {},
   "outputs": [],
   "source": [
    "lowlotfrontage,upplotfrontage=remove_outlier(df['BedroomAbvGr'])\n",
    "df[\"BedroomAbvGr\"]=np.where(df['BedroomAbvGr']>upplotfrontage,upplotfrontage,df['BedroomAbvGr'])\n",
    "df[\"BedroomAbvGr\"]=np.where(df['BedroomAbvGr']<lowlotfrontage,lowlotfrontage,df['BedroomAbvGr'])"
   ]
  },
  {
   "cell_type": "code",
   "execution_count": 45,
   "id": "32421c58",
   "metadata": {},
   "outputs": [],
   "source": [
    "lowlotfrontage,upplotfrontage=remove_outlier(df['TotRmsAbvGrd'])\n",
    "df[\"TotRmsAbvGrd\"]=np.where(df['TotRmsAbvGrd']>upplotfrontage,upplotfrontage,df['TotRmsAbvGrd'])\n",
    "df[\"TotRmsAbvGrd\"]=np.where(df['TotRmsAbvGrd']<lowlotfrontage,lowlotfrontage,df['TotRmsAbvGrd'])"
   ]
  },
  {
   "cell_type": "code",
   "execution_count": 46,
   "id": "b80aaca2",
   "metadata": {},
   "outputs": [],
   "source": [
    "lowlotfrontage,upplotfrontage=remove_outlier(df['GarageCars'])\n",
    "df[\"GarageCars\"]=np.where(df['GarageCars']>upplotfrontage,upplotfrontage,df['GarageCars'])\n",
    "df[\"GarageCars\"]=np.where(df['GarageCars']<lowlotfrontage,lowlotfrontage,df['GarageCars'])"
   ]
  },
  {
   "cell_type": "code",
   "execution_count": 47,
   "id": "dd6eeadb",
   "metadata": {},
   "outputs": [],
   "source": [
    "lowlotfrontage,upplotfrontage=remove_outlier(df['PoolArea'])\n",
    "df[\"PoolArea\"]=np.where(df['PoolArea']>upplotfrontage,upplotfrontage,df['PoolArea'])\n",
    "df[\"PoolArea\"]=np.where(df['PoolArea']<lowlotfrontage,lowlotfrontage,df['PoolArea'])"
   ]
  },
  {
   "cell_type": "code",
   "execution_count": 48,
   "id": "bc2ba5e5",
   "metadata": {},
   "outputs": [],
   "source": [
    "lowlotfrontage,upplotfrontage=remove_outlier(df['SalePrice'])\n",
    "df[\"SalePrice\"]=np.where(df['SalePrice']>upplotfrontage,upplotfrontage,df['SalePrice'])\n",
    "df[\"SalePrice\"]=np.where(df['SalePrice']<lowlotfrontage,lowlotfrontage,df['SalePrice'])"
   ]
  },
  {
   "cell_type": "code",
   "execution_count": 50,
   "id": "6c9ce5d2",
   "metadata": {},
   "outputs": [],
   "source": [
    "lowlotfrontage,upplotfrontage=remove_outlier(df[\"OverallQual\"])\n",
    "df[\"OverallQual\"]=np.where(df[\"OverallQual\"]>upplotfrontage,upplotfrontage,df[\"OverallQual\"])\n",
    "df[\"OverallQual\"]=np.where(df[\"OverallQual\"]<lowlotfrontage,lowlotfrontage,df[\"OverallQual\"])"
   ]
  },
  {
   "cell_type": "code",
   "execution_count": 52,
   "id": "60e0806a",
   "metadata": {},
   "outputs": [],
   "source": [
    "lowlotfrontage,upplotfrontage=remove_outlier(df[\"OverallCond\"])\n",
    "df[\"OverallCond\"]=np.where(df[\"OverallCond\"]>upplotfrontage,upplotfrontage,df[\"OverallCond\"])\n",
    "df[\"OverallCond\"]=np.where(df[\"OverallCond\"]<lowlotfrontage,lowlotfrontage,df[\"OverallCond\"])"
   ]
  },
  {
   "cell_type": "code",
   "execution_count": 54,
   "id": "a6d76fd1",
   "metadata": {},
   "outputs": [],
   "source": [
    "lowlotfrontage,upplotfrontage=remove_outlier(df[\"YearBuilt\"])\n",
    "df[\"YearBuilt\"]=np.where(df[\"YearBuilt\"]>upplotfrontage,upplotfrontage,df[\"YearBuilt\"])\n",
    "df[\"YearBuilt\"]=np.where(df[\"YearBuilt\"]<lowlotfrontage,lowlotfrontage,df[\"YearBuilt\"])"
   ]
  },
  {
   "cell_type": "code",
   "execution_count": 55,
   "id": "d08cefbd",
   "metadata": {},
   "outputs": [],
   "source": [
    "lowlotfrontage,upplotfrontage=remove_outlier(df[\"GrLivArea\"])\n",
    "df[\"GrLivArea\"]=np.where(df[\"GrLivArea\"]>upplotfrontage,upplotfrontage,df[\"GrLivArea\"])\n",
    "df[\"GrLivArea\"]=np.where(df[\"GrLivArea\"]<lowlotfrontage,lowlotfrontage,df[\"GrLivArea\"])"
   ]
  },
  {
   "cell_type": "code",
   "execution_count": 56,
   "id": "fa62839d",
   "metadata": {},
   "outputs": [],
   "source": [
    "lowlotfrontage,upplotfrontage=remove_outlier(df[\"BsmtFullBath\"])\n",
    "df[\"BsmtFullBath\"]=np.where(df[\"BsmtFullBath\"]>upplotfrontage,upplotfrontage,df[\"BsmtFullBath\"])\n",
    "df[\"BsmtFullBath\"]=np.where(df[\"BsmtFullBath\"]<lowlotfrontage,lowlotfrontage,df[\"BsmtFullBath\"])"
   ]
  },
  {
   "cell_type": "code",
   "execution_count": 57,
   "id": "25b2afc8",
   "metadata": {},
   "outputs": [],
   "source": [
    "lowlotfrontage,upplotfrontage=remove_outlier(df[\"YearBuilt\"])\n",
    "df[\"BsmtHalfBath\"]=np.where(df[\"BsmtHalfBath\"]>upplotfrontage,upplotfrontage,df[\"BsmtHalfBath\"])\n",
    "df[\"BsmtHalfBath\"]=np.where(df[\"BsmtHalfBath\"]<lowlotfrontage,lowlotfrontage,df[\"BsmtHalfBath\"])"
   ]
  },
  {
   "cell_type": "code",
   "execution_count": 58,
   "id": "b46bd5f4",
   "metadata": {},
   "outputs": [],
   "source": [
    "lowlotfrontage,upplotfrontage=remove_outlier(df[\"FullBath\"])\n",
    "df[\"FullBath\"]=np.where(df[\"FullBath\"]>upplotfrontage,upplotfrontage,df[\"FullBath\"])\n",
    "df[\"FullBath\"]=np.where(df[\"FullBath\"]<lowlotfrontage,lowlotfrontage,df[\"FullBath\"])"
   ]
  },
  {
   "cell_type": "code",
   "execution_count": 59,
   "id": "07d1acdb",
   "metadata": {},
   "outputs": [],
   "source": [
    "lowlotfrontage,upplotfrontage=remove_outlier(df[\"HalfBath\"])\n",
    "df[\"HalfBath\"]=np.where(df[\"HalfBath\"]>upplotfrontage,upplotfrontage,df[\"HalfBath\"])\n",
    "df[\"HalfBath\"]=np.where(df[\"HalfBath\"]<lowlotfrontage,lowlotfrontage,df[\"HalfBath\"])"
   ]
  },
  {
   "cell_type": "code",
   "execution_count": 60,
   "id": "cd761eae",
   "metadata": {},
   "outputs": [],
   "source": [
    "lowlotfrontage,upplotfrontage=remove_outlier(df[\"KitchenAbvGr\"])\n",
    "df[\"KitchenAbvGr\"]=np.where(df[\"KitchenAbvGr\"]>upplotfrontage,upplotfrontage,df[\"KitchenAbvGr\"])\n",
    "df[\"KitchenAbvGr\"]=np.where(df[\"KitchenAbvGr\"]<lowlotfrontage,lowlotfrontage,df[\"KitchenAbvGr\"])"
   ]
  },
  {
   "cell_type": "code",
   "execution_count": 61,
   "id": "5ada70f0",
   "metadata": {},
   "outputs": [],
   "source": [
    "lowlotfrontage,upplotfrontage=remove_outlier(df[\"Fireplaces\"])\n",
    "df[\"Fireplaces\"]=np.where(df[\"Fireplaces\"]>upplotfrontage,upplotfrontage,df[\"Fireplaces\"])\n",
    "df[\"Fireplaces\"]=np.where(df[\"Fireplaces\"]<lowlotfrontage,lowlotfrontage,df[\"Fireplaces\"])"
   ]
  },
  {
   "cell_type": "code",
   "execution_count": 62,
   "id": "5c16c0cf",
   "metadata": {},
   "outputs": [],
   "source": [
    "lowlotfrontage,upplotfrontage=remove_outlier(df[\"GarageYrBlt\"])\n",
    "df[\"GarageYrBlt\"]=np.where(df[\"GarageYrBlt\"]>upplotfrontage,upplotfrontage,df[\"GarageYrBlt\"])\n",
    "df[\"GarageYrBlt\"]=np.where(df[\"GarageYrBlt\"]<lowlotfrontage,lowlotfrontage,df[\"GarageYrBlt\"])"
   ]
  },
  {
   "cell_type": "code",
   "execution_count": 63,
   "id": "13e25c40",
   "metadata": {},
   "outputs": [],
   "source": [
    "lowlotfrontage,upplotfrontage=remove_outlier(df[\"GarageArea\"])\n",
    "df[\"GarageArea\"]=np.where(df[\"GarageArea\"]>upplotfrontage,upplotfrontage,df[\"GarageArea\"])\n",
    "df[\"GarageArea\"]=np.where(df[\"GarageArea\"]<lowlotfrontage,lowlotfrontage,df[\"GarageArea\"])"
   ]
  },
  {
   "cell_type": "code",
   "execution_count": 64,
   "id": "79bc1097",
   "metadata": {},
   "outputs": [],
   "source": [
    "lowlotfrontage,upplotfrontage=remove_outlier(df[\"WoodDeckSF\"])\n",
    "df[\"WoodDeckSF\"]=np.where(df[\"WoodDeckSF\"]>upplotfrontage,upplotfrontage,df[\"WoodDeckSF\"])\n",
    "df[\"WoodDeckSF\"]=np.where(df[\"WoodDeckSF\"]<lowlotfrontage,lowlotfrontage,df[\"WoodDeckSF\"])"
   ]
  },
  {
   "cell_type": "code",
   "execution_count": 65,
   "id": "ab604d74",
   "metadata": {},
   "outputs": [],
   "source": [
    "lowlotfrontage,upplotfrontage=remove_outlier(df[\"OpenPorchSF\"])\n",
    "df[\"OpenPorchSF\"]=np.where(df[\"OpenPorchSF\"]>upplotfrontage,upplotfrontage,df[\"OpenPorchSF\"])\n",
    "df[\"OpenPorchSF\"]=np.where(df[\"OpenPorchSF\"]<lowlotfrontage,lowlotfrontage,df[\"OpenPorchSF\"])"
   ]
  },
  {
   "cell_type": "code",
   "execution_count": 66,
   "id": "7dc5f4df",
   "metadata": {},
   "outputs": [],
   "source": [
    "lowlotfrontage,upplotfrontage=remove_outlier(df[\"EnclosedPorch\"])\n",
    "df[\"EnclosedPorch\"]=np.where(df[\"EnclosedPorch\"]>upplotfrontage,upplotfrontage,df[\"EnclosedPorch\"])\n",
    "df[\"EnclosedPorch\"]=np.where(df[\"EnclosedPorch\"]<lowlotfrontage,lowlotfrontage,df[\"EnclosedPorch\"])"
   ]
  },
  {
   "cell_type": "code",
   "execution_count": 67,
   "id": "fed4c44d",
   "metadata": {},
   "outputs": [],
   "source": [
    "lowlotfrontage,upplotfrontage=remove_outlier(df[\"3SsnPorch\"])\n",
    "df[\"3SsnPorch\"]=np.where(df[\"3SsnPorch\"]>upplotfrontage,upplotfrontage,df[\"3SsnPorch\"])\n",
    "df[\"3SsnPorch\"]=np.where(df[\"3SsnPorch\"]<lowlotfrontage,lowlotfrontage,df[\"3SsnPorch\"])"
   ]
  },
  {
   "cell_type": "code",
   "execution_count": 68,
   "id": "3009fe63",
   "metadata": {},
   "outputs": [],
   "source": [
    "lowlotfrontage,upplotfrontage=remove_outlier(df[\"ScreenPorch\"])\n",
    "df[\"ScreenPorch\"]=np.where(df[\"ScreenPorch\"]>upplotfrontage,upplotfrontage,df[\"ScreenPorch\"])\n",
    "df[\"ScreenPorch\"]=np.where(df[\"ScreenPorch\"]<lowlotfrontage,lowlotfrontage,df[\"ScreenPorch\"])"
   ]
  },
  {
   "cell_type": "code",
   "execution_count": 69,
   "id": "ae584e9a",
   "metadata": {},
   "outputs": [],
   "source": [
    "lowlotfrontage,upplotfrontage=remove_outlier(df[\"MiscVal\"])\n",
    "df[\"MiscVal\"]=np.where(df[\"MiscVal\"]>upplotfrontage,upplotfrontage,df[\"MiscVal\"])\n",
    "df[\"MiscVal\"]=np.where(df[\"MiscVal\"]<lowlotfrontage,lowlotfrontage,df[\"MiscVal\"])"
   ]
  },
  {
   "cell_type": "code",
   "execution_count": 70,
   "id": "47146e2d",
   "metadata": {},
   "outputs": [],
   "source": [
    "lowlotfrontage,upplotfrontage=remove_outlier(df[\"MoSold\"])\n",
    "df[\"MoSold\"]=np.where(df[\"MoSold\"]>upplotfrontage,upplotfrontage,df[\"MoSold\"])\n",
    "df[\"MoSold\"]=np.where(df[\"MoSold\"]<lowlotfrontage,lowlotfrontage,df[\"MoSold\"])"
   ]
  },
  {
   "cell_type": "code",
   "execution_count": 71,
   "id": "e0718a38",
   "metadata": {},
   "outputs": [],
   "source": [
    "lowlotfrontage,upplotfrontage=remove_outlier(df[\"YrSold\"])\n",
    "df[\"YrSold\"]=np.where(df[\"YrSold\"]>upplotfrontage,upplotfrontage,df[\"YrSold\"])\n",
    "df[\"YrSold\"]=np.where(df[\"YrSold\"]<lowlotfrontage,lowlotfrontage,df[\"YrSold\"])"
   ]
  },
  {
   "cell_type": "markdown",
   "id": "de82c04d",
   "metadata": {},
   "source": [
    "# Normalizing and Scaling"
   ]
  },
  {
   "cell_type": "code",
   "execution_count": 76,
   "id": "6028766b",
   "metadata": {},
   "outputs": [
    {
     "data": {
      "text/plain": [
       "StandardScaler()"
      ]
     },
     "execution_count": 76,
     "metadata": {},
     "output_type": "execute_result"
    }
   ],
   "source": [
    "from sklearn.preprocessing import StandardScaler\n",
    "got=StandardScaler()\n",
    "got"
   ]
  },
  {
   "cell_type": "code",
   "execution_count": 77,
   "id": "5b5992c1",
   "metadata": {},
   "outputs": [
    {
     "data": {
      "text/plain": [
       "0    65.0\n",
       "1    80.0\n",
       "2    68.0\n",
       "3    60.0\n",
       "4    84.0\n",
       "Name: LotFrontage, dtype: float64"
      ]
     },
     "execution_count": 77,
     "metadata": {},
     "output_type": "execute_result"
    }
   ],
   "source": [
    "df['LotFrontage'].head()"
   ]
  },
  {
   "cell_type": "code",
   "execution_count": 78,
   "id": "d9826428",
   "metadata": {},
   "outputs": [],
   "source": [
    "df['MSSubClass']=got.fit_transform(df[['MSSubClass']])"
   ]
  },
  {
   "cell_type": "code",
   "execution_count": 79,
   "id": "e7f9a538",
   "metadata": {},
   "outputs": [
    {
     "data": {
      "text/plain": [
       "0    0.073375\n",
       "1   -0.872563\n",
       "2    0.073375\n",
       "3    0.309859\n",
       "4    0.073375\n",
       "Name: MSSubClass, dtype: float64"
      ]
     },
     "execution_count": 79,
     "metadata": {},
     "output_type": "execute_result"
    }
   ],
   "source": [
    "df['MSSubClass'].head()"
   ]
  },
  {
   "cell_type": "code",
   "execution_count": 80,
   "id": "bc57da11",
   "metadata": {},
   "outputs": [],
   "source": [
    "df['LotFrontage']=got.fit_transform(df[['LotFrontage']])"
   ]
  },
  {
   "cell_type": "code",
   "execution_count": 81,
   "id": "780d052f",
   "metadata": {},
   "outputs": [],
   "source": [
    "df['LotArea']=got.fit_transform(df[['LotArea']])"
   ]
  },
  {
   "cell_type": "code",
   "execution_count": 82,
   "id": "67778453",
   "metadata": {},
   "outputs": [],
   "source": [
    "df['OverallQual']=got.fit_transform(df[['OverallQual']])"
   ]
  },
  {
   "cell_type": "code",
   "execution_count": 84,
   "id": "c18eeb95",
   "metadata": {},
   "outputs": [],
   "source": [
    "df['LotFrontage']=got.fit_transform(df[['LotFrontage']])"
   ]
  },
  {
   "cell_type": "code",
   "execution_count": 85,
   "id": "fa8bd2b7",
   "metadata": {},
   "outputs": [],
   "source": [
    "df['LotArea']=got.fit_transform(df[['LotArea']])"
   ]
  },
  {
   "cell_type": "code",
   "execution_count": 86,
   "id": "3cd2d093",
   "metadata": {},
   "outputs": [],
   "source": [
    "df['OverallQual']=got.fit_transform(df[['OverallQual']])"
   ]
  },
  {
   "cell_type": "code",
   "execution_count": 87,
   "id": "fd34cfc7",
   "metadata": {},
   "outputs": [],
   "source": [
    "df['OverallCond']=got.fit_transform(df[['OverallCond']])"
   ]
  },
  {
   "cell_type": "code",
   "execution_count": 88,
   "id": "7a103223",
   "metadata": {},
   "outputs": [],
   "source": [
    "df['YearBuilt']=got.fit_transform(df[['YearBuilt']])"
   ]
  },
  {
   "cell_type": "code",
   "execution_count": 89,
   "id": "949ab9b8",
   "metadata": {},
   "outputs": [],
   "source": [
    "df['YearRemodAdd']=got.fit_transform(df[['YearRemodAdd']])"
   ]
  },
  {
   "cell_type": "code",
   "execution_count": 90,
   "id": "0c1c178a",
   "metadata": {},
   "outputs": [],
   "source": [
    "df['MasVnrArea']=got.fit_transform(df[['MasVnrArea']])"
   ]
  },
  {
   "cell_type": "code",
   "execution_count": 91,
   "id": "37edec13",
   "metadata": {},
   "outputs": [],
   "source": [
    "df['BsmtFinSF1']=got.fit_transform(df[['BsmtFinSF1']])"
   ]
  },
  {
   "cell_type": "code",
   "execution_count": 92,
   "id": "e6127880",
   "metadata": {},
   "outputs": [],
   "source": [
    "df['BsmtFinSF2']=got.fit_transform(df[['BsmtFinSF2']])"
   ]
  },
  {
   "cell_type": "code",
   "execution_count": 93,
   "id": "e93d618f",
   "metadata": {},
   "outputs": [],
   "source": [
    "df['BsmtUnfSF']=got.fit_transform(df[['BsmtUnfSF']])"
   ]
  },
  {
   "cell_type": "code",
   "execution_count": 94,
   "id": "656b88ab",
   "metadata": {},
   "outputs": [],
   "source": [
    "df['TotalBsmtSF']=got.fit_transform(df[['TotalBsmtSF']])"
   ]
  },
  {
   "cell_type": "code",
   "execution_count": 95,
   "id": "2a95c31d",
   "metadata": {},
   "outputs": [],
   "source": [
    "df['1stFlrSF']=got.fit_transform(df[['1stFlrSF']])"
   ]
  },
  {
   "cell_type": "code",
   "execution_count": 96,
   "id": "0fee3255",
   "metadata": {},
   "outputs": [],
   "source": [
    "df['2ndFlrSF']=got.fit_transform(df[['2ndFlrSF']])"
   ]
  },
  {
   "cell_type": "code",
   "execution_count": 97,
   "id": "ba4c2653",
   "metadata": {},
   "outputs": [],
   "source": [
    "df['LowQualFinSF']=got.fit_transform(df[['LowQualFinSF']])"
   ]
  },
  {
   "cell_type": "code",
   "execution_count": 98,
   "id": "a92060af",
   "metadata": {},
   "outputs": [],
   "source": [
    "df['GrLivArea']=got.fit_transform(df[['GrLivArea']])"
   ]
  },
  {
   "cell_type": "code",
   "execution_count": 99,
   "id": "be05b075",
   "metadata": {},
   "outputs": [],
   "source": [
    "df['BsmtFullBath']=got.fit_transform(df[['BsmtFullBath']])"
   ]
  },
  {
   "cell_type": "code",
   "execution_count": 100,
   "id": "a585db94",
   "metadata": {},
   "outputs": [],
   "source": [
    "df['BsmtHalfBath']=got.fit_transform(df[['BsmtHalfBath']])"
   ]
  },
  {
   "cell_type": "code",
   "execution_count": 101,
   "id": "7e21625a",
   "metadata": {},
   "outputs": [],
   "source": [
    "df['FullBath']=got.fit_transform(df[['FullBath']])"
   ]
  },
  {
   "cell_type": "code",
   "execution_count": 102,
   "id": "af69f4fd",
   "metadata": {},
   "outputs": [],
   "source": [
    "df['HalfBath']=got.fit_transform(df[['HalfBath']])"
   ]
  },
  {
   "cell_type": "code",
   "execution_count": 103,
   "id": "430dce89",
   "metadata": {},
   "outputs": [],
   "source": [
    "df['BedroomAbvGr']=got.fit_transform(df[['BedroomAbvGr']])"
   ]
  },
  {
   "cell_type": "code",
   "execution_count": 104,
   "id": "8198388e",
   "metadata": {},
   "outputs": [],
   "source": [
    "df['KitchenAbvGr']=got.fit_transform(df[['KitchenAbvGr']])"
   ]
  },
  {
   "cell_type": "code",
   "execution_count": 105,
   "id": "2a72ee60",
   "metadata": {},
   "outputs": [],
   "source": [
    "df['TotRmsAbvGrd']=got.fit_transform(df[['TotRmsAbvGrd']])"
   ]
  },
  {
   "cell_type": "code",
   "execution_count": 106,
   "id": "16dce7c5",
   "metadata": {},
   "outputs": [],
   "source": [
    "df['Fireplaces']=got.fit_transform(df[['Fireplaces']])"
   ]
  },
  {
   "cell_type": "code",
   "execution_count": 107,
   "id": "0069ee8e",
   "metadata": {},
   "outputs": [],
   "source": [
    "df['GarageYrBlt']=got.fit_transform(df[['GarageYrBlt']])"
   ]
  },
  {
   "cell_type": "code",
   "execution_count": 108,
   "id": "2b21df73",
   "metadata": {},
   "outputs": [],
   "source": [
    "df['GarageCars']=got.fit_transform(df[['GarageCars']])"
   ]
  },
  {
   "cell_type": "code",
   "execution_count": 109,
   "id": "4e0b94a2",
   "metadata": {},
   "outputs": [],
   "source": [
    "df['GarageArea']=got.fit_transform(df[['GarageArea']])"
   ]
  },
  {
   "cell_type": "code",
   "execution_count": 110,
   "id": "e1d6e32b",
   "metadata": {},
   "outputs": [],
   "source": [
    "df['WoodDeckSF']=got.fit_transform(df[['WoodDeckSF']])"
   ]
  },
  {
   "cell_type": "code",
   "execution_count": 111,
   "id": "8acc3135",
   "metadata": {},
   "outputs": [],
   "source": [
    "df['OpenPorchSF']=got.fit_transform(df[['OpenPorchSF']])"
   ]
  },
  {
   "cell_type": "code",
   "execution_count": 112,
   "id": "8b228f14",
   "metadata": {},
   "outputs": [],
   "source": [
    "df['EnclosedPorch']=got.fit_transform(df[['EnclosedPorch']])"
   ]
  },
  {
   "cell_type": "code",
   "execution_count": 113,
   "id": "6429caf5",
   "metadata": {},
   "outputs": [],
   "source": [
    "df['3SsnPorch']=got.fit_transform(df[['3SsnPorch']])"
   ]
  },
  {
   "cell_type": "code",
   "execution_count": 114,
   "id": "d12f0d91",
   "metadata": {},
   "outputs": [],
   "source": [
    "df['ScreenPorch']=got.fit_transform(df[['ScreenPorch']])"
   ]
  },
  {
   "cell_type": "code",
   "execution_count": 115,
   "id": "9c6c81ed",
   "metadata": {},
   "outputs": [],
   "source": [
    "df['PoolArea']=got.fit_transform(df[['PoolArea']])"
   ]
  },
  {
   "cell_type": "code",
   "execution_count": 116,
   "id": "de0ed04c",
   "metadata": {},
   "outputs": [],
   "source": [
    "df['MiscVal']=got.fit_transform(df[['MiscVal']])"
   ]
  },
  {
   "cell_type": "code",
   "execution_count": 117,
   "id": "23ce6680",
   "metadata": {},
   "outputs": [],
   "source": [
    "df['MoSold']=got.fit_transform(df[['MoSold']])"
   ]
  },
  {
   "cell_type": "code",
   "execution_count": 118,
   "id": "faa528f9",
   "metadata": {},
   "outputs": [],
   "source": [
    "df['YrSold']=got.fit_transform(df[['YrSold']])"
   ]
  },
  {
   "cell_type": "code",
   "execution_count": 119,
   "id": "e95f1a8f",
   "metadata": {},
   "outputs": [],
   "source": [
    "df['SalePrice']=got.fit_transform(df[['SalePrice']])"
   ]
  },
  {
   "cell_type": "code",
   "execution_count": 120,
   "id": "b8e09c96",
   "metadata": {},
   "outputs": [
    {
     "data": {
      "text/plain": [
       "<bound method DataFrame.info of         Id  MSSubClass MSZoning  LotFrontage   LotArea Street Alley LotShape  \\\n",
       "0        1    0.073375       RL    -0.237456 -0.333244   Pave  Grvl      Reg   \n",
       "1        2   -0.872563       RL     0.633321 -0.013189   Pave  Grvl      Reg   \n",
       "2        3    0.073375       RL    -0.063300  0.446022   Pave  Grvl      IR1   \n",
       "3        4    0.309859       RL    -0.527714 -0.027104   Pave  Grvl      IR1   \n",
       "4        5    0.073375       RL     0.865528  1.283733   Pave  Grvl      IR1   \n",
       "...    ...         ...      ...          ...       ...    ...   ...      ...   \n",
       "1455  1456    0.073375       RL    -0.411611 -0.481583   Pave  Grvl      Reg   \n",
       "1456  1457   -0.872563       RL     0.923580  0.981767   Pave  Grvl      Reg   \n",
       "1457  1458    0.309859       RL    -0.179404 -0.168485   Pave  Grvl      Reg   \n",
       "1458  1459   -0.872563       RL    -0.063300  0.019374   Pave  Grvl      Reg   \n",
       "1459  1460   -0.872563       RL     0.343062  0.080602   Pave  Grvl      Reg   \n",
       "\n",
       "     LandContour Utilities  ... PoolArea PoolQC  Fence MiscFeature MiscVal  \\\n",
       "0            Lvl    AllPub  ...      0.0     Gd  MnPrv        Shed     0.0   \n",
       "1            Lvl    AllPub  ...      0.0     Gd  MnPrv        Shed     0.0   \n",
       "2            Lvl    AllPub  ...      0.0     Gd  MnPrv        Shed     0.0   \n",
       "3            Lvl    AllPub  ...      0.0     Gd  MnPrv        Shed     0.0   \n",
       "4            Lvl    AllPub  ...      0.0     Gd  MnPrv        Shed     0.0   \n",
       "...          ...       ...  ...      ...    ...    ...         ...     ...   \n",
       "1455         Lvl    AllPub  ...      0.0     Gd  MnPrv        Shed     0.0   \n",
       "1456         Lvl    AllPub  ...      0.0     Gd  MnPrv        Shed     0.0   \n",
       "1457         Lvl    AllPub  ...      0.0     Gd  GdPrv        Shed     0.0   \n",
       "1458         Lvl    AllPub  ...      0.0     Gd  MnPrv        Shed     0.0   \n",
       "1459         Lvl    AllPub  ...      0.0     Gd  MnPrv        Shed     0.0   \n",
       "\n",
       "        MoSold    YrSold  SaleType  SaleCondition  SalePrice  \n",
       "0    -1.599111  0.138777        WD         Normal   0.463935  \n",
       "1    -0.489110 -0.614439        WD         Normal   0.062047  \n",
       "2     0.990891  0.138777        WD         Normal   0.687207  \n",
       "3    -1.599111 -1.367655        WD        Abnorml  -0.555671  \n",
       "4     2.100892  0.138777        WD         Normal   1.081653  \n",
       "...        ...       ...       ...            ...        ...  \n",
       "1455  0.620891 -0.614439        WD         Normal  -0.034704  \n",
       "1456 -1.599111  1.645210        WD         Normal   0.486262  \n",
       "1457 -0.489110  1.645210        WD         Normal   1.327251  \n",
       "1458 -0.859110  1.645210        WD         Normal  -0.524041  \n",
       "1459 -0.119110  0.138777        WD         Normal  -0.444035  \n",
       "\n",
       "[1460 rows x 81 columns]>"
      ]
     },
     "execution_count": 120,
     "metadata": {},
     "output_type": "execute_result"
    }
   ],
   "source": [
    "df.info"
   ]
  },
  {
   "cell_type": "markdown",
   "id": "ea13f6fb",
   "metadata": {},
   "source": [
    "#  ENCODING"
   ]
  },
  {
   "cell_type": "code",
   "execution_count": 121,
   "id": "e2a83d89",
   "metadata": {},
   "outputs": [],
   "source": [
    "dummies=pd.get_dummies(df[['MSZoning', 'Street', 'Alley', 'LotShape', 'LandContour', 'Utilities',\n",
    "       'LotConfig', 'LandSlope', 'Neighborhood', 'Condition1', 'Condition2',\n",
    "       'BldgType', 'HouseStyle', 'RoofStyle', 'RoofMatl', 'Exterior1st',\n",
    "       'Exterior2nd', 'MasVnrType', 'ExterQual', 'ExterCond', 'Foundation',\n",
    "       'BsmtQual', 'BsmtCond', 'BsmtExposure', 'BsmtFinType1', 'BsmtFinType2',\n",
    "       'Heating', 'HeatingQC', 'CentralAir', 'Electrical', 'KitchenQual',\n",
    "       'Functional', 'FireplaceQu', 'GarageType', 'GarageFinish', 'GarageQual',\n",
    "       'GarageCond', 'PavedDrive', 'PoolQC', 'Fence', 'MiscFeature',\n",
    "       'SaleType', 'SaleCondition']],\n",
    "                      columns=['MSZoning', 'Street', 'Alley', 'LotShape', 'LandContour', 'Utilities',\n",
    "       'LotConfig', 'LandSlope', 'Neighborhood', 'Condition1', 'Condition2',\n",
    "       'BldgType', 'HouseStyle', 'RoofStyle', 'RoofMatl', 'Exterior1st',\n",
    "       'Exterior2nd', 'MasVnrType', 'ExterQual', 'ExterCond', 'Foundation',\n",
    "       'BsmtQual', 'BsmtCond', 'BsmtExposure', 'BsmtFinType1', 'BsmtFinType2',\n",
    "       'Heating', 'HeatingQC', 'CentralAir', 'Electrical', 'KitchenQual',\n",
    "       'Functional', 'FireplaceQu', 'GarageType', 'GarageFinish', 'GarageQual',\n",
    "       'GarageCond', 'PavedDrive', 'PoolQC', 'Fence', 'MiscFeature',\n",
    "       'SaleType', 'SaleCondition'],drop_first=True).head()"
   ]
  },
  {
   "cell_type": "code",
   "execution_count": 122,
   "id": "2a0b046a",
   "metadata": {},
   "outputs": [
    {
     "data": {
      "text/plain": [
       "(1460, 81)"
      ]
     },
     "execution_count": 122,
     "metadata": {},
     "output_type": "execute_result"
    }
   ],
   "source": [
    "df.shape"
   ]
  },
  {
   "cell_type": "code",
   "execution_count": 123,
   "id": "e02cee3a",
   "metadata": {},
   "outputs": [],
   "source": [
    "df=pd.concat([df,dummies],axis=1)"
   ]
  },
  {
   "cell_type": "code",
   "execution_count": 124,
   "id": "f6fcdc97",
   "metadata": {},
   "outputs": [
    {
     "data": {
      "text/plain": [
       "(1460, 290)"
      ]
     },
     "execution_count": 124,
     "metadata": {},
     "output_type": "execute_result"
    }
   ],
   "source": [
    "df.shape"
   ]
  },
  {
   "cell_type": "code",
   "execution_count": 125,
   "id": "f9636367",
   "metadata": {},
   "outputs": [],
   "source": [
    "columns=['MSZoning', 'Street', 'Alley', 'LotShape', 'LandContour', 'Utilities',\n",
    "       'LotConfig', 'LandSlope', 'Neighborhood', 'Condition1', 'Condition2',\n",
    "       'BldgType', 'HouseStyle', 'RoofStyle', 'RoofMatl', 'Exterior1st',\n",
    "       'Exterior2nd', 'MasVnrType', 'ExterQual', 'ExterCond', 'Foundation',\n",
    "       'BsmtQual', 'BsmtCond', 'BsmtExposure', 'BsmtFinType1', 'BsmtFinType2',\n",
    "       'Heating', 'HeatingQC', 'CentralAir', 'Electrical', 'KitchenQual',\n",
    "       'Functional', 'FireplaceQu', 'GarageType', 'GarageFinish', 'GarageQual',\n",
    "       'GarageCond', 'PavedDrive', 'PoolQC', 'Fence', 'MiscFeature',\n",
    "       'SaleType', 'SaleCondition']"
   ]
  },
  {
   "cell_type": "code",
   "execution_count": 126,
   "id": "b993a1c6",
   "metadata": {},
   "outputs": [],
   "source": [
    "df.drop(columns,axis=1,inplace=True)"
   ]
  },
  {
   "cell_type": "code",
   "execution_count": 127,
   "id": "229744d4",
   "metadata": {},
   "outputs": [
    {
     "data": {
      "text/plain": [
       "(1460, 247)"
      ]
     },
     "execution_count": 127,
     "metadata": {},
     "output_type": "execute_result"
    }
   ],
   "source": [
    "df.shape"
   ]
  },
  {
   "cell_type": "code",
   "execution_count": null,
   "id": "cad55e0d",
   "metadata": {},
   "outputs": [],
   "source": []
  }
 ],
 "metadata": {
  "kernelspec": {
   "display_name": "Python 3 (ipykernel)",
   "language": "python",
   "name": "python3"
  },
  "language_info": {
   "codemirror_mode": {
    "name": "ipython",
    "version": 3
   },
   "file_extension": ".py",
   "mimetype": "text/x-python",
   "name": "python",
   "nbconvert_exporter": "python",
   "pygments_lexer": "ipython3",
   "version": "3.9.7"
  }
 },
 "nbformat": 4,
 "nbformat_minor": 5
}
